{
 "cells": [
  {
   "cell_type": "code",
   "execution_count": 11,
   "id": "df9fae6c",
   "metadata": {},
   "outputs": [],
   "source": [
    "import h5py\n",
    "import pandas as pd\n",
    "import matplotlib.pyplot as plt\n",
    "import ipywidgets as widgets\n",
    "from IPython.display import display, clear_output\n",
    "import os\n",
    "\n",
    "%matplotlib inline\n",
    "\n",
    "POLLUTANT_MAP = {\n",
    "    \"1\": \"SO2\", \"5\": \"NO2\", \"7\": \"NO\", \"8\": \"NOx\", \"9\": \"CO\",\n",
    "    \"10\": \"Benzene\", \"38\": \"PM10\", \"6001\": \"PM2.5\", \"6006\": \"O3\"\n",
    "}\n"
   ]
  },
  {
   "cell_type": "code",
   "execution_count": null,
   "id": "392c4d79",
   "metadata": {},
   "outputs": [],
   "source": [
    "upload_output = widgets.Output()\n",
    "station_dropdown = widgets.Dropdown(description=\"Station:\", layout=widgets.Layout(width=\"50%\"))\n",
    "pollutant_dropdown = widgets.Dropdown(description=\"Pollutant:\", layout=widgets.Layout(width=\"50%\"))\n",
    "plot_button = widgets.Button(description=\"📈 Plot\", button_style=\"success\")\n",
    "output_plot = widgets.Output()\n",
    "file_upload = widgets.FileUpload(accept=\".h5\", multiple=False, description=\"Upload .h5 File\")\n"
   ]
  },
  {
   "cell_type": "code",
   "execution_count": null,
   "id": "06caa805",
   "metadata": {},
   "outputs": [],
   "source": [
    "def update_gui_from_file(h5_path):\n",
    "    with h5py.File(h5_path, \"r\") as f:\n",
    "        station_pollutant_map = {\n",
    "            group: list(f[\"FR\"][group].keys()) for group in f[\"FR\"]\n",
    "        }\n",
    "\n",
    "    station_dropdown.options = list(station_pollutant_map.keys())\n",
    "\n",
    "    def update_pollutants(*args):\n",
    "        station = station_dropdown.value\n",
    "        codes = station_pollutant_map.get(station, [])\n",
    "        pollutant_dropdown.options = [(POLLUTANT_MAP.get(p, p), p) for p in codes]\n",
    "\n",
    "    station_dropdown.observe(update_pollutants, names=\"value\")\n",
    "    update_pollutants()\n",
    "\n",
    "    def on_plot(b):\n",
    "        output_plot.clear_output()\n",
    "        station = station_dropdown.value\n",
    "        pollutant = pollutant_dropdown.value\n",
    "\n",
    "        with h5py.File(h5_path, \"r\") as f:\n",
    "            grp = f[f\"FR/{station}/{pollutant}\"]\n",
    "            timestamps = [ts.decode(\"utf-8\") for ts in grp[\"timestamps\"][:]]\n",
    "            values = grp[\"values\"][:]\n",
    "            unit = grp.attrs.get(\"unit\", \"\")\n",
    "            agg = grp.attrs.get(\"agg_type\", \"\")\n",
    "            val = grp.attrs.get(\"validity\", \"\")\n",
    "\n",
    "        df = pd.DataFrame({\"timestamp\": pd.to_datetime(timestamps), \"value\": values})\n",
    "        label = POLLUTANT_MAP.get(pollutant, pollutant)\n",
    "\n",
    "        with output_plot:\n",
    "            plt.figure(figsize=(14, 5))\n",
    "            plt.plot(df[\"timestamp\"], df[\"value\"], label=f\"{label} ({unit})\")\n",
    "            plt.title(f\"{station} | {label} | Agg: {agg} | Validity: {val}\")\n",
    "            plt.xlabel(\"Time\")\n",
    "            plt.ylabel(f\"Concentration ({unit})\")\n",
    "            plt.grid(True)\n",
    "            plt.legend()\n",
    "            plt.tight_layout()\n",
    "            plt.show()\n",
    "\n",
    "    plot_button.on_click(on_plot)\n"
   ]
  },
  {
   "cell_type": "code",
   "execution_count": null,
   "id": "301ddb90",
   "metadata": {},
   "outputs": [],
   "source": [
    "def on_file_upload(change):\n",
    "    upload_output.clear_output()\n",
    "    if not file_upload.value:\n",
    "        with upload_output:\n",
    "            print(\"Please upload a .h5 file.\")\n",
    "        return\n",
    "\n",
    "    uploaded_file = file_upload.value[0]\n",
    "    uploaded_filename = uploaded_file[\"name\"]\n",
    "    file_bytes = uploaded_file[\"content\"]\n",
    "    \n",
    "    h5_path = \"uploaded_voila_file.h5\"\n",
    "    with open(h5_path, \"wb\") as f:\n",
    "        f.write(file_bytes)\n",
    "\n",
    "    with upload_output:\n",
    "        print(f\"File uploaded: {uploaded_filename}\")\n",
    "    \n",
    "    update_gui_from_file(h5_path)\n",
    "\n",
    "    # if os.path.exists(h5_path):\n",
    "    #     os.remove(h5_path)\n"
   ]
  },
  {
   "cell_type": "code",
   "execution_count": 15,
   "id": "9d81cac7",
   "metadata": {},
   "outputs": [
    {
     "data": {
      "application/vnd.jupyter.widget-view+json": {
       "model_id": "6c9dd1abb486466b9a718f96c1e307f1",
       "version_major": 2,
       "version_minor": 0
      },
      "text/plain": [
       "VBox(children=(FileUpload(value=(), accept='.h5', description='📂 Upload .h5 File'), Output(), Dropdown(descrip…"
      ]
     },
     "metadata": {},
     "output_type": "display_data"
    }
   ],
   "source": [
    "file_upload.observe(on_file_upload, names=\"value\")\n",
    "\n",
    "ui = widgets.VBox([\n",
    "    file_upload,\n",
    "    upload_output,\n",
    "    station_dropdown,\n",
    "    pollutant_dropdown,\n",
    "    plot_button,\n",
    "    output_plot\n",
    "])\n",
    "\n",
    "display(ui)"
   ]
  },
  {
   "cell_type": "code",
   "execution_count": null,
   "id": "daa061cb",
   "metadata": {},
   "outputs": [],
   "source": []
  }
 ],
 "metadata": {
  "kernelspec": {
   "display_name": "hdf5",
   "language": "python",
   "name": "python3"
  },
  "language_info": {
   "codemirror_mode": {
    "name": "ipython",
    "version": 3
   },
   "file_extension": ".py",
   "mimetype": "text/x-python",
   "name": "python",
   "nbconvert_exporter": "python",
   "pygments_lexer": "ipython3",
   "version": "3.10.16"
  }
 },
 "nbformat": 4,
 "nbformat_minor": 5
}
