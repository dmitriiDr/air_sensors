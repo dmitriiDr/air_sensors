{
 "cells": [
  {
   "cell_type": "code",
   "execution_count": 6,
   "metadata": {},
   "outputs": [],
   "source": [
    "import pandas as pd\n",
    "from data.load_data import load_parquets\n",
    "from data.convert import save_df_to_hdf5"
   ]
  },
  {
   "cell_type": "code",
   "execution_count": 2,
   "metadata": {},
   "outputs": [
    {
     "name": "stdout",
     "output_type": "stream",
     "text": [
      "Combined DataFrame shape: (193132, 12)\n"
     ]
    }
   ],
   "source": [
    "df = load_parquets('../data/raw/E2a')"
   ]
  },
  {
   "cell_type": "code",
   "execution_count": 3,
   "metadata": {},
   "outputs": [
    {
     "data": {
      "text/html": [
       "<div>\n",
       "<style scoped>\n",
       "    .dataframe tbody tr th:only-of-type {\n",
       "        vertical-align: middle;\n",
       "    }\n",
       "\n",
       "    .dataframe tbody tr th {\n",
       "        vertical-align: top;\n",
       "    }\n",
       "\n",
       "    .dataframe thead th {\n",
       "        text-align: right;\n",
       "    }\n",
       "</style>\n",
       "<table border=\"1\" class=\"dataframe\">\n",
       "  <thead>\n",
       "    <tr style=\"text-align: right;\">\n",
       "      <th></th>\n",
       "      <th>Samplingpoint</th>\n",
       "      <th>Pollutant</th>\n",
       "      <th>Start</th>\n",
       "      <th>End</th>\n",
       "      <th>Value</th>\n",
       "      <th>Unit</th>\n",
       "      <th>AggType</th>\n",
       "      <th>Validity</th>\n",
       "      <th>Verification</th>\n",
       "      <th>ResultTime</th>\n",
       "      <th>DataCapture</th>\n",
       "      <th>FkObservationLog</th>\n",
       "    </tr>\n",
       "  </thead>\n",
       "  <tbody>\n",
       "    <tr>\n",
       "      <th>0</th>\n",
       "      <td>FR/SPO-FR15038_38</td>\n",
       "      <td>38</td>\n",
       "      <td>2024-01-01 01:00:00</td>\n",
       "      <td>2024-01-01 02:00:00</td>\n",
       "      <td>0.600000000000000000</td>\n",
       "      <td>ug.m-3</td>\n",
       "      <td>hour</td>\n",
       "      <td>1</td>\n",
       "      <td>2</td>\n",
       "      <td>2024-01-04 01:15:06</td>\n",
       "      <td>None</td>\n",
       "      <td>6eb5107c-f49e-4d7b-9c55-58f0f4d60e01</td>\n",
       "    </tr>\n",
       "    <tr>\n",
       "      <th>1</th>\n",
       "      <td>FR/SPO-FR15038_38</td>\n",
       "      <td>38</td>\n",
       "      <td>2024-01-01 02:00:00</td>\n",
       "      <td>2024-01-01 03:00:00</td>\n",
       "      <td>0E-18</td>\n",
       "      <td>ug.m-3</td>\n",
       "      <td>hour</td>\n",
       "      <td>1</td>\n",
       "      <td>2</td>\n",
       "      <td>2024-01-04 01:15:06</td>\n",
       "      <td>None</td>\n",
       "      <td>6eb5107c-f49e-4d7b-9c55-58f0f4d60e01</td>\n",
       "    </tr>\n",
       "  </tbody>\n",
       "</table>\n",
       "</div>"
      ],
      "text/plain": [
       "       Samplingpoint  Pollutant               Start                 End  \\\n",
       "0  FR/SPO-FR15038_38         38 2024-01-01 01:00:00 2024-01-01 02:00:00   \n",
       "1  FR/SPO-FR15038_38         38 2024-01-01 02:00:00 2024-01-01 03:00:00   \n",
       "\n",
       "                  Value    Unit AggType  Validity  Verification  \\\n",
       "0  0.600000000000000000  ug.m-3    hour         1             2   \n",
       "1                 0E-18  ug.m-3    hour         1             2   \n",
       "\n",
       "           ResultTime DataCapture                      FkObservationLog  \n",
       "0 2024-01-04 01:15:06        None  6eb5107c-f49e-4d7b-9c55-58f0f4d60e01  \n",
       "1 2024-01-04 01:15:06        None  6eb5107c-f49e-4d7b-9c55-58f0f4d60e01  "
      ]
     },
     "execution_count": 3,
     "metadata": {},
     "output_type": "execute_result"
    }
   ],
   "source": [
    "df.head(2)"
   ]
  },
  {
   "cell_type": "code",
   "execution_count": 4,
   "metadata": {},
   "outputs": [
    {
     "name": "stdout",
     "output_type": "stream",
     "text": [
      "Saved to ../data/processed/air_quality.h5\n"
     ]
    }
   ],
   "source": [
    "save_df_to_hdf5(df, '../data/processed/air_quality.h5', station_col='Samplingpoint', pollutant_col='Pollutant')"
   ]
  },
  {
   "cell_type": "code",
   "execution_count": null,
   "metadata": {},
   "outputs": [],
   "source": []
  }
 ],
 "metadata": {
  "kernelspec": {
   "display_name": "hdf5",
   "language": "python",
   "name": "python3"
  },
  "language_info": {
   "codemirror_mode": {
    "name": "ipython",
    "version": 3
   },
   "file_extension": ".py",
   "mimetype": "text/x-python",
   "name": "python",
   "nbconvert_exporter": "python",
   "pygments_lexer": "ipython3",
   "version": "3.10.16"
  }
 },
 "nbformat": 4,
 "nbformat_minor": 2
}
